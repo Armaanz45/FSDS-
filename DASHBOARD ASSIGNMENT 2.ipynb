{
 "cells": [
  {
   "cell_type": "code",
   "execution_count": 1,
   "metadata": {},
   "outputs": [],
   "source": [
    "#QUESTION 1\n",
    "\n",
    "#1.What are the two values of the Boolean data type? How do you write them?\n",
    "\n",
    "#The 2 different values of boolean datatype are TRUE and FALSE.\n",
    "#we can write them  as True and  False\n",
    "\n"
   ]
  },
  {
   "cell_type": "code",
   "execution_count": 2,
   "metadata": {},
   "outputs": [],
   "source": [
    "#QUESTION 2\n",
    "\n",
    "#What are the three different types of Boolean operators?\n",
    "\n",
    "#The 3 different types of boolean operators are (AND OR & NOT )\n"
   ]
  },
  {
   "cell_type": "code",
   "execution_count": 3,
   "metadata": {},
   "outputs": [],
   "source": [
    "#QUESTION 3\n",
    "\n",
    "#Make a list of each Boolean operator's truth tables (i.e. every possible combination of Boolean\n",
    "#values for the operator and what it evaluate ).\n",
    "\n",
    "#Boolean Operators are AND OR & NOT \n",
    "\n",
    "#TRUTH TABLE OF AND    #TRUTH TABLE OF OR        #TRUTH TABLE OF NOT \n",
    "\n",
    "#0 0 --0               #0 0 -- 0                 #0 0 -- 1\n",
    "#0 1 --0               #0 1 -- 1                 #0 1 -- 1\n",
    "#1 0 --0               #1 0 -- 1                 #1 0 -- 1\n",
    "#1 1 --1               #1 1 -- 1                 #1 1 -- 0\n",
    "\n"
   ]
  },
  {
   "cell_type": "code",
   "execution_count": 4,
   "metadata": {},
   "outputs": [],
   "source": [
    "#QUESTON 4 \n",
    "\n",
    "#What are the values of the following expressions?\n",
    "\n",
    "#(5 > 4) and (3 == 5) -- FALSE \n",
    "\n",
    "#not (5 > 4) -- FALSE \n",
    "\n",
    "#(5 > 4) or (3 == 5) -- TRUE \n",
    "\n",
    "#not ((5 > 4) or (3 == 5)) -- FALSE\n",
    "\n",
    "#(True and True) and (True == False) -- FALSE\n",
    "\n",
    "#(not False) or (not True) -- TRUE "
   ]
  },
  {
   "cell_type": "code",
   "execution_count": 5,
   "metadata": {},
   "outputs": [],
   "source": [
    "#QUESTION 5\n",
    "\n",
    "#The Six comparison Operators are : ( == , > , <, >=, <=, !=)"
   ]
  },
  {
   "cell_type": "code",
   "execution_count": 7,
   "metadata": {},
   "outputs": [],
   "source": [
    "#QUESTION 6 \n",
    "\n",
    "#The(=) operator is used for the assignment of a value to a variable .for example A = 12 \n",
    "\n",
    "#The (==) operator is used for the comparison of two values among each other which gives the output as either True Or False.\n",
    "#for example : A = 10 and B = 23: A == B \n",
    "\n",
    "#= operator will be used when we want to assign a value to a varibale and == operator will be used when we  have to compare the \n",
    "# 2 values.\n",
    "\n",
    "#CONDITION FOR = : ABC = 'HELLO'\n",
    "#CONDITION FOR == if A == B: \n",
    "                   #  print(\"Hello world\")"
   ]
  },
  {
   "cell_type": "code",
   "execution_count": 8,
   "metadata": {},
   "outputs": [],
   "source": [
    "#QUESTION 7 \n",
    "\n",
    "#The 3 blocks in the given code are : \n",
    "\n",
    "#Block one :\n",
    "\n",
    "#if spam == 10:\n",
    "#print('eggs')\n",
    "\n",
    "#Block 2:\n",
    "#if spam &gt; 5:\n",
    "#print('bacon')\n",
    "\n",
    "#Block 3 :\n",
    "#else:\n",
    "#print('ham')\n",
    "#print('spam')\n",
    "#print('spam')"
   ]
  },
  {
   "cell_type": "code",
   "execution_count": 13,
   "metadata": {},
   "outputs": [
    {
     "name": "stdout",
     "output_type": "stream",
     "text": [
      "Enter your number: 45\n",
      "Greetings!\n"
     ]
    }
   ],
   "source": [
    "#QUESTION 8 \n",
    "\n",
    "spam = int(input(\"Enter your number: \"))\n",
    "\n",
    "if spam == 1:\n",
    "    print(\"Hello\")\n",
    "elif spam == 2:\n",
    "    print(\"Howdy\")\n",
    "else:\n",
    "    print(\"Greetings!\")"
   ]
  },
  {
   "cell_type": "code",
   "execution_count": 1,
   "metadata": {},
   "outputs": [],
   "source": [
    "#QUESTION 9 \n",
    "\n",
    "#IF we are stuck in endless loop we will press the CNTRL + C"
   ]
  },
  {
   "cell_type": "code",
   "execution_count": null,
   "metadata": {},
   "outputs": [],
   "source": [
    "#QUESTION 10 \n",
    "\n",
    "#The difference between break and continue is that the break completely stops the loop \n",
    "#and continue: it skips the current loop or it skips all the statement after continue keyword\n",
    "\n",
    "#Example Break                               #Example Continue \n",
    "#for i in range(1, 100):                     # for i in range(1,20):\n",
    "#  if i > 50:                                # if i%2!= 0:-- if no is odd start the loop again \n",
    "#    break                                   #    continue --start the loop again\n",
    "#  print(i)                                  #    print(i)"
   ]
  },
  {
   "cell_type": "code",
   "execution_count": 15,
   "metadata": {},
   "outputs": [],
   "source": [
    "#QUESTION 11\n",
    "\n",
    "#In a for loop range(10) and range(0,10) and range(0,10,1) all are same as all will give the range starting from \n",
    "#zero till 9 "
   ]
  },
  {
   "cell_type": "code",
   "execution_count": 16,
   "metadata": {},
   "outputs": [
    {
     "name": "stdout",
     "output_type": "stream",
     "text": [
      "The value of i is: 0\n",
      "The value of i is: 1\n",
      "The value of i is: 2\n",
      "The value of i is: 3\n",
      "The value of i is: 4\n",
      "The value of i is: 5\n",
      "The value of i is: 6\n",
      "The value of i is: 7\n",
      "The value of i is: 8\n",
      "The value of i is: 9\n"
     ]
    }
   ],
   "source": [
    "#QUESTION 12\n",
    "\n",
    "for i in range(10):\n",
    "    print(f\"The value of i is: {i}\")"
   ]
  },
  {
   "cell_type": "code",
   "execution_count": 17,
   "metadata": {},
   "outputs": [
    {
     "name": "stdout",
     "output_type": "stream",
     "text": [
      "The value of i is: 0\n",
      "The value of i is: 1\n",
      "The value of i is: 2\n",
      "The value of i is: 3\n",
      "The value of i is: 4\n",
      "The value of i is: 5\n",
      "The value of i is: 6\n",
      "The value of i is: 7\n",
      "The value of i is: 8\n",
      "The value of i is: 9\n",
      "The value of i is: 10\n"
     ]
    }
   ],
   "source": [
    "#WHILE LOOP \n",
    "\n",
    "N=10 \n",
    "i=0 \n",
    "\n",
    "while i <= N:\n",
    "    print(f\"The value of i is: {i}\")\n",
    "    i=i+1"
   ]
  },
  {
   "cell_type": "code",
   "execution_count": null,
   "metadata": {},
   "outputs": [],
   "source": [
    "#QUESTION 13\n",
    "\n",
    "#If we had a function named bacon() inside a module named spam,we could call it using a dot(.) operator along with the module \n",
    "#name \n",
    "#like spam.bacon()"
   ]
  }
 ],
 "metadata": {
  "kernelspec": {
   "display_name": "Python 3",
   "language": "python",
   "name": "python3"
  },
  "language_info": {
   "codemirror_mode": {
    "name": "ipython",
    "version": 3
   },
   "file_extension": ".py",
   "mimetype": "text/x-python",
   "name": "python",
   "nbconvert_exporter": "python",
   "pygments_lexer": "ipython3",
   "version": "3.8.5"
  }
 },
 "nbformat": 4,
 "nbformat_minor": 4
}
