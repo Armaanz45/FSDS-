{
 "cells": [
  {
   "cell_type": "code",
   "execution_count": 1,
   "metadata": {},
   "outputs": [
    {
     "data": {
      "text/plain": [
       "\"1. In the below elements which of them are values or an expression? eg:- values can be integer or string and expressions will be mathematical operators.\\n* \\n'hello'\\n-87.8\\n- \\n/ \\n+\\t\\n6 \\n\""
      ]
     },
     "execution_count": 1,
     "metadata": {},
     "output_type": "execute_result"
    }
   ],
   "source": [
    "#QUESTON 1 \n",
    "\n",
    "\"\"\"1. In the below elements which of them are values or an expression? eg:- values can be integer or string and expressions will be mathematical operators.\n",
    "* \n",
    "'hello'\n",
    "-87.8\n",
    "- \n",
    "/ \n",
    "+\t\n",
    "6 \n",
    "\"\"\"\n",
    "\n"
   ]
  },
  {
   "cell_type": "code",
   "execution_count": 2,
   "metadata": {},
   "outputs": [],
   "source": [
    "#The Values are : ('hello','-87.8','6')\n",
    "#Expressions are: ('*','-','/','+')"
   ]
  },
  {
   "cell_type": "code",
   "execution_count": 3,
   "metadata": {},
   "outputs": [],
   "source": [
    "#QUESTION 2\n",
    "\n",
    "# What is the difference between string and variable?\n",
    "\n",
    "#Any data that is stored in ('') and (\" \") is known as string \n",
    "#For example: \"hello\", 'Ineuron','34',\"34.666\",\"*\" are all known as string \n",
    "#Even the input taken from the user will be by default a string value \n",
    "\n",
    "#Variable is like a container in which we can store different kinds of data\n",
    "#For example : number = 45 ,A='hello',b=\"23.90\", cart=['apple','mango']\n",
    "\n",
    "#string is a datatype that can be used to store in a variable \n",
    "#in python variables are case sensitive for example : A and a are 2 different variable \n"
   ]
  },
  {
   "cell_type": "code",
   "execution_count": 5,
   "metadata": {},
   "outputs": [],
   "source": [
    "#QUESTION 3 \n",
    "\n",
    "# Describe three different data types.\n",
    "\n",
    "#The first data type is an integer which is whole number for example: 12345\n",
    "#it can be positive or negative number but without float value eg: 34.9 cannot considered as integer\n",
    "\n",
    "#The second datatype is string which can be defined as collection of characters in single or double quotes\n",
    "#for example: \"hello\" 'world'\n",
    "\n",
    "#Third datatype is boolean datatype which is TRUE or FALSE\n",
    "#Boolean datatype can be used to define the truth of the given condition by throwing output either true or false.\n",
    "#for example: 1 < 2 which will be TRUE and 0 == 1 which will be FALSE"
   ]
  },
  {
   "cell_type": "code",
   "execution_count": null,
   "metadata": {},
   "outputs": [],
   "source": [
    "#QUESTION 4 \n",
    "\n",
    "#. What is an expression made up of? What do all expressions do?\n",
    "\n",
    "#An expression is a combination of operators and operands that is interpreted to produce some other value.\n",
    "#In programming language expressions are evaluated as per the precedence of its operators.\n",
    "\n",
    "#Expression is used to perform certain operation based on operator to produce other value\n",
    "#for example: 5+5,25%5 \n"
   ]
  },
  {
   "cell_type": "code",
   "execution_count": null,
   "metadata": {},
   "outputs": [],
   "source": [
    "#QUESTION 5\n",
    "\n",
    "#This assignment statements, like spam = 10. What is the difference between an expression and a statement?\n",
    "\n",
    "#An expression  is something that can be reduced to a value \n",
    "#for example: 10+12,10*1\n",
    "\n",
    "#well as a statement is spam=10 and statements cannot be reduced to a value."
   ]
  },
  {
   "cell_type": "code",
   "execution_count": 12,
   "metadata": {},
   "outputs": [
    {
     "data": {
      "text/plain": [
       "23"
      ]
     },
     "execution_count": 12,
     "metadata": {},
     "output_type": "execute_result"
    }
   ],
   "source": [
    "#QUESTION 6\n",
    "\n",
    "#After running the following code, what does the variable bacon contain?\n",
    "\n",
    "bacon = 22\n",
    "bacon + 1\n",
    "\n",
    "#AFter running  the code the output will be 23 but the bacon variable will contain the value as 22 only"
   ]
  },
  {
   "cell_type": "code",
   "execution_count": 13,
   "metadata": {},
   "outputs": [
    {
     "name": "stdout",
     "output_type": "stream",
     "text": [
      "22\n"
     ]
    }
   ],
   "source": [
    "#QUESTION  7\n",
    "\n",
    "#. What should the values of the following two terms be?\n",
    "\n",
    "#1.'spam' + 'spamspam'\n",
    "#2.'spam' * 3\n",
    "\n",
    "#Both the input will produce the same value as \n",
    "#'spamspamspam'"
   ]
  },
  {
   "cell_type": "code",
   "execution_count": 1,
   "metadata": {},
   "outputs": [],
   "source": [
    "#QUESTION 8 \n",
    "\n",
    "#Why is eggs a valid variable name while 100 is invalid?\n",
    "\n",
    "#BECAUSE Variables name cannot be number value like 100,10 or 1\n",
    "#Variables name can only be alphabet not even special characters like (* @ $ % )\n",
    "#Variables name can contain numbers but cannot start with numbers \n",
    "#for eg: ten10= 9 -- is a valid variable name\n",
    "#        10abc= 12 -- is invalid variable name"
   ]
  },
  {
   "cell_type": "code",
   "execution_count": 2,
   "metadata": {},
   "outputs": [],
   "source": [
    "#QUESTION  9 \n",
    "\n",
    "#The 3 functions that can be used to get the integer floating point number and string version of a value are: \n",
    "# for integer -- int()\n",
    "#for float  -- float() \n",
    "#for string -- str()"
   ]
  },
  {
   "cell_type": "code",
   "execution_count": null,
   "metadata": {},
   "outputs": [],
   "source": [
    "#QUESTION 10 \n",
    "\n",
    "#'I have eaten ' + 99 + ' burritos.'\n",
    "\n",
    "#The above expression is failing because the concatenation works with same datatype.\n",
    "#Here above the 99 will be considered as integer datatype so it will throw type error that  can only concatenate str \n",
    "#(not int to str)\n",
    "#And the other two are considered as string datatype as they are in between single quote \n",
    "#So to fix this error just put 99 in '99' and it will be able to concatenate the strings properly.\n",
    "\n",
    "# 'I have eaten ' + '99' + ' burritos.' -- this is correct form.\n",
    "\n",
    "#Second approach can also be like this to fix the error \n",
    "\n",
    "#  '''I have eaten ' + 99 + ' burritos.''' -- just add triple quotes in start and end this will also fix the error.."
   ]
  }
 ],
 "metadata": {
  "kernelspec": {
   "display_name": "Python 3",
   "language": "python",
   "name": "python3"
  },
  "language_info": {
   "codemirror_mode": {
    "name": "ipython",
    "version": 3
   },
   "file_extension": ".py",
   "mimetype": "text/x-python",
   "name": "python",
   "nbconvert_exporter": "python",
   "pygments_lexer": "ipython3",
   "version": "3.8.5"
  }
 },
 "nbformat": 4,
 "nbformat_minor": 4
}
